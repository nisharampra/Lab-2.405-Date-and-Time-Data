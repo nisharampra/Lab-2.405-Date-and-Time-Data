{
 "cells": [
  {
   "cell_type": "markdown",
   "metadata": {},
   "source": [
    "# Working with date and time data\n",
    "In this notebook you will find a few examples of how to manipulate date and time data using Python's standard [`datetime`](https://docs.python.org/3.6/library/datetime.html) and [`pytz`](https://pypi.python.org/pypi/pytz) libraries. We will pretty much be dealing with libraries through the entirety of the course. They make our lives easier and give us access to lots of powerful features."
   ]
  },
  {
   "cell_type": "code",
   "execution_count": null,
   "metadata": {},
   "outputs": [],
   "source": [
    "# import datetime module. If this does not work make sure it is installed via Pip!\n",
    "from datetime import datetime"
   ]
  },
  {
   "cell_type": "markdown",
   "metadata": {},
   "source": [
    "Let's suppose you have a time represented in UTC format, but you'd like to convert that back into a string. You can do that with the `fromtimestamp` method of the datetime class. This will return a datetime object with the following properties: year, month, day, hours, minutes, seconds, microsecond, tzinfo"
   ]
  },
  {
   "cell_type": "code",
   "execution_count": null,
   "metadata": {},
   "outputs": [],
   "source": [
    "utc = 1507247926\n",
    "utc_dt = datetime.fromtimestamp(utc)\n",
    "print(utc_dt)"
   ]
  },
  {
   "cell_type": "markdown",
   "metadata": {},
   "source": [
    "Here Jupyter has interfered a bit, because if you were doing this from Python shell, you'd actually get something that looked like this:\n",
    "\n",
    "        datetime.datetime(2017, 10, 6, 0, 58, 46)\n",
    "\n",
    "That's because `utc_dt` is a datetime object, not a nicely formatted string. To turn it into a string in a format of our choice, we could use the standardised set of **time format tokens** with the `strftime` method."
   ]
  },
  {
   "cell_type": "code",
   "execution_count": null,
   "metadata": {},
   "outputs": [],
   "source": [
    "print(utc_dt.strftime('%Y-%m-%d %H:%M:%S %Z'))"
   ]
  },
  {
   "cell_type": "code",
   "execution_count": null,
   "metadata": {},
   "outputs": [],
   "source": [
    "# output just the date part in another format\n",
    "print(utc_dt.strftime('%A %e %B %Y'))"
   ]
  },
  {
   "cell_type": "code",
   "execution_count": null,
   "metadata": {},
   "outputs": [],
   "source": [
    "# output just the time part\n",
    "print(utc_dt.strftime('%I:%M %p'))"
   ]
  },
  {
   "cell_type": "markdown",
   "metadata": {},
   "source": [
    "Now, there is a slight problem here...depending where you are and what time of year you are doing this exercise! The result we've been given does not take into account the British Summer Time (BST) offset. One solution to this problem is to utilise the pytz module.\n",
    "\n",
    "pytz brings the [Olson tz database](https://en.wikipedia.org/wiki/Tz_database) into Python. This library allows\n",
    "accurate and cross platform timezone calculations, and solves the issue of ambiguous times at the end\n",
    "of daylight saving time."
   ]
  },
  {
   "cell_type": "code",
   "execution_count": null,
   "metadata": {},
   "outputs": [],
   "source": [
    "# notice that, at this point, the tzinfo property of the datetime object is not set (it is `naive')\n",
    "print(utc_dt.tzinfo)"
   ]
  },
  {
   "cell_type": "code",
   "execution_count": null,
   "metadata": {},
   "outputs": [],
   "source": [
    "import pytz\n",
    "local_tz = pytz.timezone(\"Europe/London\")\n",
    "utc_dt.replace(tzinfo=pytz.utc).astimezone(local_tz)"
   ]
  },
  {
   "cell_type": "markdown",
   "metadata": {},
   "source": [
    "We now have a datetime object where the tzinfo property has been given a timezone object of type UTC as its value. This means it is now \\`timezone aware', as opposed to being \\`naive'. The timezone has then been converted to a local timezone by the `astimezone` method.\n",
    "\n",
    "The last thing we might want to do is turn that into a nice string..."
   ]
  },
  {
   "cell_type": "code",
   "execution_count": null,
   "metadata": {},
   "outputs": [],
   "source": [
    "print(utc_dt.replace(tzinfo=pytz.utc).astimezone(local_tz).strftime('%A %e %B %Y %I:%M %p'))"
   ]
  },
  {
   "cell_type": "markdown",
   "metadata": {},
   "source": [
    "## Next steps...\n",
    "If you are going to be working with date and time data in any serious way, an external library that is often preferred over datetime and pytz is [arrow](http://arrow.readthedocs.io/en/latest/). As an extension (if you have time) you might want to have a play around with this library and share some of your exploration on the discussion forums."
   ]
  },
  {
   "cell_type": "code",
   "execution_count": null,
   "metadata": {},
   "outputs": [],
   "source": [
    "!pip install arrow"
   ]
  },
  {
   "cell_type": "code",
   "execution_count": 3,
   "metadata": {},
   "outputs": [
    {
     "name": "stdout",
     "output_type": "stream",
     "text": [
      "Requirement already satisfied: arrow in /opt/conda/lib/python3.7/site-packages (1.2.3)\n",
      "Requirement already satisfied: python-dateutil>=2.7.0 in /opt/conda/lib/python3.7/site-packages (from arrow) (2.8.1)\n",
      "Requirement already satisfied: typing-extensions; python_version < \"3.8\" in /opt/conda/lib/python3.7/site-packages (from arrow) (3.7.4.2)\n",
      "Requirement already satisfied: six>=1.5 in /opt/conda/lib/python3.7/site-packages (from python-dateutil>=2.7.0->arrow) (1.14.0)\n",
      "\u001b[33mWARNING: You are using pip version 20.2.3; however, version 23.3.2 is available.\n",
      "You should consider upgrading via the '/opt/conda/bin/python3 -m pip install --upgrade pip' command.\u001b[0m\n",
      "UTC Arrow Object: 2017-10-05T23:58:46+00:00\n",
      "Formatted UTC Time: 2017-10-05 23:58:46 +00:00\n",
      "Local Arrow Object: 2017-10-06T00:58:46+01:00\n",
      "Formatted Local Time: Friday 6 October 2017 12:58 AM\n"
     ]
    }
   ],
   "source": [
    "# Install the arrow library\n",
    "!pip install arrow\n",
    "\n",
    "# Import the arrow library\n",
    "import arrow\n",
    "\n",
    "# Suppose you have a time represented in UTC format\n",
    "utc_timestamp = 1507247926\n",
    "\n",
    "# Create an arrow object from the original UTC timestamp\n",
    "utc_arrow = arrow.get(utc_timestamp)\n",
    "\n",
    "# Print the formatted representation of the arrow object\n",
    "print(\"UTC Arrow Object:\", utc_arrow)\n",
    "print(\"Formatted UTC Time:\", utc_arrow.format('YYYY-MM-DD HH:mm:ss ZZ'))\n",
    "\n",
    "# Convert to a different timezone (e.g., \"Europe/London\")\n",
    "local_arrow = utc_arrow.to('Europe/London')\n",
    "print(\"Local Arrow Object:\", local_arrow)\n",
    "print(\"Formatted Local Time:\", local_arrow.format('dddd D MMMM YYYY hh:mm A'))\n"
   ]
  },
  {
   "cell_type": "code",
   "execution_count": null,
   "metadata": {},
   "outputs": [],
   "source": []
  }
 ],
 "metadata": {
  "kernelspec": {
   "display_name": "Python 3",
   "language": "python",
   "name": "python3"
  },
  "language_info": {
   "codemirror_mode": {
    "name": "ipython",
    "version": 3
   },
   "file_extension": ".py",
   "mimetype": "text/x-python",
   "name": "python",
   "nbconvert_exporter": "python",
   "pygments_lexer": "ipython3",
   "version": "3.7.6"
  }
 },
 "nbformat": 4,
 "nbformat_minor": 1
}
